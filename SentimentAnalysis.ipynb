{
 "cells": [
  {
   "cell_type": "markdown",
   "id": "f3eba461",
   "metadata": {},
   "source": [
    "### Twitter Sentiment Analysis\n",
    "\n",
    "There are various files in these archives: other than this README, each one can be identified by its filename, in the format {set}_{type}.{filetype}\n",
    "- {set} refers to either train, dev, or test:\n",
    "\n",
    "\n",
    "    train: You should use this data when building a model\n",
    "    dev: You should use this data when evaluating a model\n",
    "    test: You should submit the outputs on this data to Kaggle; the labels are not given\n",
    "   \n",
    "- {type} refers to either full, count, tfidf, glove100:\n",
    "    \n",
    "    \n",
    "    full: This contains the raw text of the corresponding tweets, one tweet per line, in the following format:\n",
    "          sentiment, tweet_id, tweet (newline)\n",
    "         \n",
    "where sentiment is the class label (to be predicted), the tweet_id identifies the tweet, and the Tweet-text the raw tweet"
   ]
  },
  {
   "cell_type": "code",
   "execution_count": 19,
   "id": "72bc8d51",
   "metadata": {},
   "outputs": [
    {
     "name": "stdout",
     "output_type": "stream",
     "text": [
      "Analysis.ipynb   dev_glove.csv    test_glove.csv   train_glove.csv\r\n",
      "README.txt       dev_tfidf.csv    test_tfidf.csv   train_tfidf.csv\r\n",
      "dev_count.csv    test_count.csv   train_count.csv  vocab.txt\r\n",
      "dev_full.csv     test_full.csv    train_full.csv\r\n"
     ]
    }
   ],
   "source": [
    "ls"
   ]
  },
  {
   "cell_type": "code",
   "execution_count": 18,
   "id": "cbdedfe0",
   "metadata": {},
   "outputs": [],
   "source": [
    "import pandas as pd\n",
    "import numpy as np\n",
    "\n",
    "import re\n",
    "from typing import List"
   ]
  },
  {
   "cell_type": "code",
   "execution_count": 13,
   "id": "1ac96486",
   "metadata": {},
   "outputs": [
    {
     "name": "stdout",
     "output_type": "stream",
     "text": [
      "Number of tweets : 159253\n"
     ]
    },
    {
     "data": {
      "text/html": [
       "<div>\n",
       "<style scoped>\n",
       "    .dataframe tbody tr th:only-of-type {\n",
       "        vertical-align: middle;\n",
       "    }\n",
       "\n",
       "    .dataframe tbody tr th {\n",
       "        vertical-align: top;\n",
       "    }\n",
       "\n",
       "    .dataframe thead th {\n",
       "        text-align: right;\n",
       "    }\n",
       "</style>\n",
       "<table border=\"1\" class=\"dataframe\">\n",
       "  <thead>\n",
       "    <tr style=\"text-align: right;\">\n",
       "      <th></th>\n",
       "      <th>sentiment</th>\n",
       "      <th>tweet_id</th>\n",
       "      <th>tweet</th>\n",
       "    </tr>\n",
       "  </thead>\n",
       "  <tbody>\n",
       "    <tr>\n",
       "      <th>0</th>\n",
       "      <td>neg</td>\n",
       "      <td>1</td>\n",
       "      <td>@bullyosullivan oh no! so sorry about your pet...</td>\n",
       "    </tr>\n",
       "    <tr>\n",
       "      <th>1</th>\n",
       "      <td>neg</td>\n",
       "      <td>2</td>\n",
       "      <td>@anneaam you should! i love prison break.i onl...</td>\n",
       "    </tr>\n",
       "    <tr>\n",
       "      <th>2</th>\n",
       "      <td>neg</td>\n",
       "      <td>3</td>\n",
       "      <td>i saw some really nice pair of shoess.. couldn...</td>\n",
       "    </tr>\n",
       "    <tr>\n",
       "      <th>3</th>\n",
       "      <td>neg</td>\n",
       "      <td>4</td>\n",
       "      <td>hihihi i had fun but my foot is still hurting!...</td>\n",
       "    </tr>\n",
       "    <tr>\n",
       "      <th>4</th>\n",
       "      <td>neg</td>\n",
       "      <td>5</td>\n",
       "      <td>sourish limbs is preventing me from gg out on ...</td>\n",
       "    </tr>\n",
       "  </tbody>\n",
       "</table>\n",
       "</div>"
      ],
      "text/plain": [
       "  sentiment  tweet_id                                              tweet\n",
       "0       neg         1  @bullyosullivan oh no! so sorry about your pet...\n",
       "1       neg         2  @anneaam you should! i love prison break.i onl...\n",
       "2       neg         3  i saw some really nice pair of shoess.. couldn...\n",
       "3       neg         4  hihihi i had fun but my foot is still hurting!...\n",
       "4       neg         5  sourish limbs is preventing me from gg out on ..."
      ]
     },
     "execution_count": 13,
     "metadata": {},
     "output_type": "execute_result"
    }
   ],
   "source": [
    "dataframe_full = pd.read_csv(\"train_full.csv\")\n",
    "print(f\"Number of tweets : {dataframe_full.shape[0]}\")\n",
    "dataframe_full.head()"
   ]
  },
  {
   "cell_type": "code",
   "execution_count": 14,
   "id": "58386d80",
   "metadata": {},
   "outputs": [
    {
     "name": "stdout",
     "output_type": "stream",
     "text": [
      "Number of tweets : 159253\n"
     ]
    },
    {
     "data": {
      "text/html": [
       "<div>\n",
       "<style scoped>\n",
       "    .dataframe tbody tr th:only-of-type {\n",
       "        vertical-align: middle;\n",
       "    }\n",
       "\n",
       "    .dataframe tbody tr th {\n",
       "        vertical-align: top;\n",
       "    }\n",
       "\n",
       "    .dataframe thead th {\n",
       "        text-align: right;\n",
       "    }\n",
       "</style>\n",
       "<table border=\"1\" class=\"dataframe\">\n",
       "  <thead>\n",
       "    <tr style=\"text-align: right;\">\n",
       "      <th></th>\n",
       "      <th>sentiment</th>\n",
       "      <th>tweet_id</th>\n",
       "      <th>tweet</th>\n",
       "    </tr>\n",
       "  </thead>\n",
       "  <tbody>\n",
       "    <tr>\n",
       "      <th>0</th>\n",
       "      <td>neg</td>\n",
       "      <td>1</td>\n",
       "      <td>[-1.6987898349761963, 2.2624399662017822, 6.31...</td>\n",
       "    </tr>\n",
       "    <tr>\n",
       "      <th>1</th>\n",
       "      <td>neg</td>\n",
       "      <td>2</td>\n",
       "      <td>[-0.6801580190658569, 3.7226200103759766, 4.19...</td>\n",
       "    </tr>\n",
       "    <tr>\n",
       "      <th>2</th>\n",
       "      <td>neg</td>\n",
       "      <td>3</td>\n",
       "      <td>[-1.4373129606246948, 3.666132926940918, 3.606...</td>\n",
       "    </tr>\n",
       "    <tr>\n",
       "      <th>3</th>\n",
       "      <td>neg</td>\n",
       "      <td>4</td>\n",
       "      <td>[-0.05581996217370033, 1.9807831048965454, 4.8...</td>\n",
       "    </tr>\n",
       "    <tr>\n",
       "      <th>4</th>\n",
       "      <td>neg</td>\n",
       "      <td>5</td>\n",
       "      <td>[-7.14106559753418, 6.505103588104248, 10.3213...</td>\n",
       "    </tr>\n",
       "  </tbody>\n",
       "</table>\n",
       "</div>"
      ],
      "text/plain": [
       "  sentiment  tweet_id                                              tweet\n",
       "0       neg         1  [-1.6987898349761963, 2.2624399662017822, 6.31...\n",
       "1       neg         2  [-0.6801580190658569, 3.7226200103759766, 4.19...\n",
       "2       neg         3  [-1.4373129606246948, 3.666132926940918, 3.606...\n",
       "3       neg         4  [-0.05581996217370033, 1.9807831048965454, 4.8...\n",
       "4       neg         5  [-7.14106559753418, 6.505103588104248, 10.3213..."
      ]
     },
     "execution_count": 14,
     "metadata": {},
     "output_type": "execute_result"
    }
   ],
   "source": [
    "dataframe_glove = pd.read_csv(\"train_glove.csv\")\n",
    "print(f\"Number of tweets : {dataframe_glove.shape[0]}\")\n",
    "dataframe_glove.head()"
   ]
  },
  {
   "cell_type": "markdown",
   "id": "5524be07",
   "metadata": {},
   "source": [
    "### Benchmarking\n",
    "We first do some exploratory analysis and construct some basic benchmarks for model performance. As we see, the dataset is skewed towards `pos` and `neg` labels, which combine to make up $\\approx80\\%$ of the labels. Thus we can say that the dataset is slightly imbalanced, which might be problematic."
   ]
  },
  {
   "cell_type": "code",
   "execution_count": 17,
   "id": "c021547d",
   "metadata": {},
   "outputs": [
    {
     "data": {
      "text/plain": [
       "neg    0.407352\n",
       "pos    0.392124\n",
       "neu    0.200524\n",
       "Name: sentiment, dtype: float64"
      ]
     },
     "execution_count": 17,
     "metadata": {},
     "output_type": "execute_result"
    },
    {
     "data": {
      "image/png": "[encoded data removed]",
      "text/plain": [
       "<Figure size 432x288 with 1 Axes>"
      ]
     },
     "metadata": {
      "needs_background": "light"
     },
     "output_type": "display_data"
    }
   ],
   "source": [
    "dataframe_full['sentiment'].value_counts().plot(kind='barh')\n",
    "dataframe_full['sentiment'].value_counts(normalize=True)"
   ]
  },
  {
   "cell_type": "markdown",
   "id": "ca3af263",
   "metadata": {},
   "source": [
    "### Feature engineering\n",
    "\n",
    "So far our $\\textit{features}$ involve only the actual tweet itself, we now engineer some additional features. Using several resources online, we can find some inspiration for engineering features in the NLP context. As an occasional twitter user, there is also some slight domain context for what suggests a tweets polarity, such as hashtags and mentions. We implement python functions below for performing feature extraction, we then apply these features to `dataframe_full`"
   ]
  },
  {
   "cell_type": "code",
   "execution_count": 25,
   "id": "82012a36",
   "metadata": {},
   "outputs": [],
   "source": [
    "def num_chars(tweet: str):\n",
    "    return len(tweet)\n",
    "\n",
    "\n",
    "def num_words(tweet: str):\n",
    "    return len(tweet.split())\n",
    "\n",
    "\n",
    "def num_cap_words(tweet: str):\n",
    "    return sum(map(str.isupper, tweet.split()))\n",
    "\n",
    "\n",
    "def num_hashtags(tweet: str): \n",
    "    return tweet.count('#')\n",
    "\n",
    "\n",
    "def num_mentions(tweet: str):\n",
    "    return tweet.count('@')"
   ]
  },
  {
   "cell_type": "code",
   "execution_count": 26,
   "id": "65162542",
   "metadata": {},
   "outputs": [
    {
     "data": {
      "text/html": [
       "<div>\n",
       "<style scoped>\n",
       "    .dataframe tbody tr th:only-of-type {\n",
       "        vertical-align: middle;\n",
       "    }\n",
       "\n",
       "    .dataframe tbody tr th {\n",
       "        vertical-align: top;\n",
       "    }\n",
       "\n",
       "    .dataframe thead th {\n",
       "        text-align: right;\n",
       "    }\n",
       "</style>\n",
       "<table border=\"1\" class=\"dataframe\">\n",
       "  <thead>\n",
       "    <tr style=\"text-align: right;\">\n",
       "      <th></th>\n",
       "      <th>sentiment</th>\n",
       "      <th>tweet_id</th>\n",
       "      <th>tweet</th>\n",
       "      <th>num_chars</th>\n",
       "      <th>num_words</th>\n",
       "      <th>num_cap_words</th>\n",
       "      <th>num_hashtags</th>\n",
       "      <th>num_mentions</th>\n",
       "      <th>avg_wordlength</th>\n",
       "    </tr>\n",
       "  </thead>\n",
       "  <tbody>\n",
       "    <tr>\n",
       "      <th>0</th>\n",
       "      <td>neg</td>\n",
       "      <td>1</td>\n",
       "      <td>@bullyosullivan oh no! so sorry about your pet...</td>\n",
       "      <td>50</td>\n",
       "      <td>8</td>\n",
       "      <td>0</td>\n",
       "      <td>0</td>\n",
       "      <td>1</td>\n",
       "      <td>6.250000</td>\n",
       "    </tr>\n",
       "    <tr>\n",
       "      <th>1</th>\n",
       "      <td>neg</td>\n",
       "      <td>2</td>\n",
       "      <td>@anneaam you should! i love prison break.i onl...</td>\n",
       "      <td>66</td>\n",
       "      <td>13</td>\n",
       "      <td>0</td>\n",
       "      <td>0</td>\n",
       "      <td>1</td>\n",
       "      <td>5.076923</td>\n",
       "    </tr>\n",
       "    <tr>\n",
       "      <th>2</th>\n",
       "      <td>neg</td>\n",
       "      <td>3</td>\n",
       "      <td>i saw some really nice pair of shoess.. couldn...</td>\n",
       "      <td>58</td>\n",
       "      <td>11</td>\n",
       "      <td>0</td>\n",
       "      <td>0</td>\n",
       "      <td>0</td>\n",
       "      <td>5.272727</td>\n",
       "    </tr>\n",
       "    <tr>\n",
       "      <th>3</th>\n",
       "      <td>neg</td>\n",
       "      <td>4</td>\n",
       "      <td>hihihi i had fun but my foot is still hurting!...</td>\n",
       "      <td>63</td>\n",
       "      <td>13</td>\n",
       "      <td>0</td>\n",
       "      <td>0</td>\n",
       "      <td>0</td>\n",
       "      <td>4.846154</td>\n",
       "    </tr>\n",
       "    <tr>\n",
       "      <th>4</th>\n",
       "      <td>neg</td>\n",
       "      <td>5</td>\n",
       "      <td>sourish limbs is preventing me from gg out on ...</td>\n",
       "      <td>135</td>\n",
       "      <td>29</td>\n",
       "      <td>0</td>\n",
       "      <td>0</td>\n",
       "      <td>0</td>\n",
       "      <td>4.655172</td>\n",
       "    </tr>\n",
       "  </tbody>\n",
       "</table>\n",
       "</div>"
      ],
      "text/plain": [
       "  sentiment  tweet_id                                              tweet  \\\n",
       "0       neg         1  @bullyosullivan oh no! so sorry about your pet...   \n",
       "1       neg         2  @anneaam you should! i love prison break.i onl...   \n",
       "2       neg         3  i saw some really nice pair of shoess.. couldn...   \n",
       "3       neg         4  hihihi i had fun but my foot is still hurting!...   \n",
       "4       neg         5  sourish limbs is preventing me from gg out on ...   \n",
       "\n",
       "   num_chars  num_words  num_cap_words  num_hashtags  num_mentions  \\\n",
       "0         50          8              0             0             1   \n",
       "1         66         13              0             0             1   \n",
       "2         58         11              0             0             0   \n",
       "3         63         13              0             0             0   \n",
       "4        135         29              0             0             0   \n",
       "\n",
       "   avg_wordlength  \n",
       "0        6.250000  \n",
       "1        5.076923  \n",
       "2        5.272727  \n",
       "3        4.846154  \n",
       "4        4.655172  "
      ]
     },
     "execution_count": 26,
     "metadata": {},
     "output_type": "execute_result"
    }
   ],
   "source": [
    "engineered_features = [num_chars, num_words, num_cap_words, num_hashtags, num_mentions]\n",
    "\n",
    "for feature in engineered_features:         # this is just a fancy way to loop our feature functions and apply them\n",
    "    dataframe_full[feature.__name__] = dataframe_full[\"tweet\"].apply(lambda x: feature(x))\n",
    "\n",
    "dataframe_full['avg_wordlength'] = dataframe_full['num_chars']/dataframe_full['num_words']\n",
    "dataframe_full.head()"
   ]
  },
  {
   "cell_type": "markdown",
   "id": "e1d0ad1e",
   "metadata": {},
   "source": [
    "### Preprocesssing\n",
    "Having engineered some features, our dataset is still *messy* and could be improved with some preprocessing of features before applying to a statisical learning algorithm."
   ]
  },
  {
   "cell_type": "code",
   "execution_count": 28,
   "id": "4147c431",
   "metadata": {},
   "outputs": [],
   "source": [
    "def preprocess():\n",
    "    return"
   ]
  },
  {
   "cell_type": "markdown",
   "id": "0e752d19",
   "metadata": {},
   "source": [
    "### Linear classification models : Training\n",
    "\n",
    "Having engineered several features from our dataset of tweets, we can begin to implement and train some classification models. We begin by applying linear classification models; ones that determine a linear decision boundary between class labels. If the engineered dataset is indeed linearly separable, we will see strong performance across these models."
   ]
  },
  {
   "cell_type": "code",
   "execution_count": 53,
   "id": "2dfffdee",
   "metadata": {},
   "outputs": [],
   "source": [
    "# we first separate out our features from our labels and drop non-features such as tweet_id\n",
    "df_full = dataframe_full            \n",
    "y = df_full['sentiment']\n",
    "X = df_full.drop(['sentiment', 'tweet_id', 'tweet'], 1)\n",
    "\n",
    "assert y.shape[0] == X.shape[0]"
   ]
  },
  {
   "cell_type": "code",
   "execution_count": 47,
   "id": "91c9f9da",
   "metadata": {},
   "outputs": [],
   "source": [
    "from sklearn.linear_model import LogisticRegression\n",
    "\n",
    "logistic_regression = LogisticRegression(random_state=0, max_iter=1000).fit(X, y)"
   ]
  },
  {
   "cell_type": "markdown",
   "id": "dfbd50b7",
   "metadata": {},
   "source": [
    "### Linear classification models : Testing\n",
    "\n",
    "Having used `train_full` to train the model, we now turn to testing and evaluating the models using the `dev_full` dataset. As this dataset intially contains only `tweet_id` and `tweet` as features, we pass it through the same pipeline of feature engineering and preprocessing as our training dataset."
   ]
  },
  {
   "cell_type": "code",
   "execution_count": 58,
   "id": "ac89bff8",
   "metadata": {},
   "outputs": [],
   "source": [
    "def transformation_pipeline(dataframe: pd.DataFrame):\n",
    "    # applies the transformation pipeline to the testing data frame, return labels and feature matrix\n",
    "    \n",
    "    for feature in engineered_features:         \n",
    "        dataframe[feature.__name__] = dataframe[\"tweet\"].apply(lambda x: feature(x))\n",
    "    \n",
    "    dataframe['avg_wordlength'] = dataframe['num_chars']/dataframe['num_words']\n",
    "    \n",
    "    y = dataframe['sentiment']\n",
    "    X = dataframe.drop(['sentiment', 'tweet_id', 'tweet'], 1)\n",
    "    return X, y"
   ]
  },
  {
   "cell_type": "code",
   "execution_count": 62,
   "id": "1a543052",
   "metadata": {},
   "outputs": [
    {
     "name": "stdout",
     "output_type": "stream",
     "text": [
      "19906 test instances\n"
     ]
    }
   ],
   "source": [
    "test_set = pd.read_csv(\"dev_full.csv\")\n",
    "X, y = transformation_pipeline(test_set)\n",
    "print(f\"{X.shape[0]} test instances\")\n",
    "\n",
    "\n",
    "# now perform evaluation of each model: \n",
    "\n"
   ]
  }
 ],
 "metadata": {
  "kernelspec": {
   "display_name": "Python 3",
   "language": "python",
   "name": "python3"
  },
  "language_info": {
   "codemirror_mode": {
    "name": "ipython",
    "version": 3
   },
   "file_extension": ".py",
   "mimetype": "text/x-python",
   "name": "python",
   "nbconvert_exporter": "python",
   "pygments_lexer": "ipython3",
   "version": "3.8.8"
  }
 },
 "nbformat": 4,
 "nbformat_minor": 5
}
