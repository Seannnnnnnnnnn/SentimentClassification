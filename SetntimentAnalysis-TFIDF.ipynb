{
 "cells": [
  {
   "cell_type": "markdown",
   "id": "88d45086",
   "metadata": {},
   "source": [
    "### Twitter Sentiment Analysis - TFIDF\n",
    "\n",
    "The previous `iPython notebook` featured analysis involving the `train_full` dataset, which included only the raw tweet. In this rendition however, we seek to improve our predictive power by including an additional dataset into the mix: the use of the *term frequency, inverse document frequency* metric in Natural Language Processing or more simply as `tfidf`.\n",
    "\n",
    "We follow the same conventions for datasets as before:\n",
    "- {set} refers to either train, dev, or test:\n",
    "\n",
    "\n",
    "    train: You should use this data when building a model\n",
    "    dev: You should use this data when evaluating a model\n",
    "    test: You should submit the outputs on this data to Kaggle; the labels are not given\n",
    "   \n",
    "- {type} refers to either full, count, tfidf, glove100:\n",
    "    \n",
    "    \n",
    "    full: This contains the raw text of the corresponding tweets, one tweet per line, in the following format:\n",
    "          sentiment, tweet_id, tweet (newline)\n",
    "         \n",
    "where sentiment is the class label (to be predicted), the tweet_id identifies the tweet, and the Tweet-text the raw tweet"
   ]
  },
  {
   "cell_type": "code",
   "execution_count": 55,
   "id": "6131043b",
   "metadata": {},
   "outputs": [],
   "source": [
    "import pandas as pd\n",
    "import numpy as np\n",
    "\n",
    "import ast\n",
    "from typing import List"
   ]
  },
  {
   "cell_type": "code",
   "execution_count": 56,
   "id": "9ed0db95",
   "metadata": {},
   "outputs": [
    {
     "name": "stdout",
     "output_type": "stream",
     "text": [
      "159253 training instances\n"
     ]
    },
    {
     "data": {
      "text/html": [
       "<div>\n",
       "<style scoped>\n",
       "    .dataframe tbody tr th:only-of-type {\n",
       "        vertical-align: middle;\n",
       "    }\n",
       "\n",
       "    .dataframe tbody tr th {\n",
       "        vertical-align: top;\n",
       "    }\n",
       "\n",
       "    .dataframe thead th {\n",
       "        text-align: right;\n",
       "    }\n",
       "</style>\n",
       "<table border=\"1\" class=\"dataframe\">\n",
       "  <thead>\n",
       "    <tr style=\"text-align: right;\">\n",
       "      <th></th>\n",
       "      <th>sentiment</th>\n",
       "      <th>tweet_id</th>\n",
       "      <th>tweet</th>\n",
       "    </tr>\n",
       "  </thead>\n",
       "  <tbody>\n",
       "    <tr>\n",
       "      <th>0</th>\n",
       "      <td>neg</td>\n",
       "      <td>1</td>\n",
       "      <td>[(3083, 0.4135918197208131), (3245, 0.79102943...</td>\n",
       "    </tr>\n",
       "    <tr>\n",
       "      <th>1</th>\n",
       "      <td>neg</td>\n",
       "      <td>2</td>\n",
       "      <td>[(679, 0.4192120119709425), (1513, 0.523940563...</td>\n",
       "    </tr>\n",
       "    <tr>\n",
       "      <th>2</th>\n",
       "      <td>neg</td>\n",
       "      <td>3</td>\n",
       "      <td>[(225, 0.5013098541806313), (1480, 0.441928325...</td>\n",
       "    </tr>\n",
       "    <tr>\n",
       "      <th>3</th>\n",
       "      <td>neg</td>\n",
       "      <td>4</td>\n",
       "      <td>[(1748, 0.5306751425467238), (1811, 0.34289257...</td>\n",
       "    </tr>\n",
       "    <tr>\n",
       "      <th>4</th>\n",
       "      <td>neg</td>\n",
       "      <td>5</td>\n",
       "      <td>[(1788, 0.568230353269611), (1789, 0.403924230...</td>\n",
       "    </tr>\n",
       "  </tbody>\n",
       "</table>\n",
       "</div>"
      ],
      "text/plain": [
       "  sentiment  tweet_id                                              tweet\n",
       "0       neg         1  [(3083, 0.4135918197208131), (3245, 0.79102943...\n",
       "1       neg         2  [(679, 0.4192120119709425), (1513, 0.523940563...\n",
       "2       neg         3  [(225, 0.5013098541806313), (1480, 0.441928325...\n",
       "3       neg         4  [(1748, 0.5306751425467238), (1811, 0.34289257...\n",
       "4       neg         5  [(1788, 0.568230353269611), (1789, 0.403924230..."
      ]
     },
     "execution_count": 56,
     "metadata": {},
     "output_type": "execute_result"
    }
   ],
   "source": [
    "df_train = pd.read_csv(\"train_tfidf.csv\")\n",
    "print(f\"{df_train.shape[0]} training instances\")\n",
    "df_train.head()"
   ]
  },
  {
   "cell_type": "code",
   "execution_count": 61,
   "id": "254b67b7",
   "metadata": {},
   "outputs": [
    {
     "data": {
      "text/html": [
       "<div>\n",
       "<style scoped>\n",
       "    .dataframe tbody tr th:only-of-type {\n",
       "        vertical-align: middle;\n",
       "    }\n",
       "\n",
       "    .dataframe tbody tr th {\n",
       "        vertical-align: top;\n",
       "    }\n",
       "\n",
       "    .dataframe thead th {\n",
       "        text-align: right;\n",
       "    }\n",
       "</style>\n",
       "<table border=\"1\" class=\"dataframe\">\n",
       "  <thead>\n",
       "    <tr style=\"text-align: right;\">\n",
       "      <th></th>\n",
       "      <th>sentiment</th>\n",
       "      <th>tweet_id</th>\n",
       "      <th>tweet</th>\n",
       "    </tr>\n",
       "  </thead>\n",
       "  <tbody>\n",
       "    <tr>\n",
       "      <th>0</th>\n",
       "      <td>neg</td>\n",
       "      <td>1</td>\n",
       "      <td>[(3083, 0.4135918197208131), (3245, 0.79102943...</td>\n",
       "    </tr>\n",
       "    <tr>\n",
       "      <th>1</th>\n",
       "      <td>neg</td>\n",
       "      <td>2</td>\n",
       "      <td>[(679, 0.4192120119709425), (1513, 0.523940563...</td>\n",
       "    </tr>\n",
       "    <tr>\n",
       "      <th>2</th>\n",
       "      <td>neg</td>\n",
       "      <td>3</td>\n",
       "      <td>[(225, 0.5013098541806313), (1480, 0.441928325...</td>\n",
       "    </tr>\n",
       "    <tr>\n",
       "      <th>3</th>\n",
       "      <td>neg</td>\n",
       "      <td>4</td>\n",
       "      <td>[(1748, 0.5306751425467238), (1811, 0.34289257...</td>\n",
       "    </tr>\n",
       "    <tr>\n",
       "      <th>4</th>\n",
       "      <td>neg</td>\n",
       "      <td>5</td>\n",
       "      <td>[(1788, 0.568230353269611), (1789, 0.403924230...</td>\n",
       "    </tr>\n",
       "  </tbody>\n",
       "</table>\n",
       "</div>"
      ],
      "text/plain": [
       "  sentiment  tweet_id                                              tweet\n",
       "0       neg         1  [(3083, 0.4135918197208131), (3245, 0.79102943...\n",
       "1       neg         2  [(679, 0.4192120119709425), (1513, 0.523940563...\n",
       "2       neg         3  [(225, 0.5013098541806313), (1480, 0.441928325...\n",
       "3       neg         4  [(1748, 0.5306751425467238), (1811, 0.34289257...\n",
       "4       neg         5  [(1788, 0.568230353269611), (1789, 0.403924230..."
      ]
     },
     "execution_count": 61,
     "metadata": {},
     "output_type": "execute_result"
    }
   ],
   "source": [
    "# df_train[tweet] is currently a string, so we first convert to an array and then a sparse matrix\n",
    "def string_to_array(tfidf_tweet: str) -> List[tuple]:\n",
    "    try:\n",
    "        ast.literal_eval(tweet)\n",
    "    except ValueError:\n",
    "        pass\n",
    "\n",
    "\n",
    "df_train['tweet'].apply(lambda x: string_to_array(x))\n",
    "df_train.head()"
   ]
  },
  {
   "cell_type": "markdown",
   "id": "2a44086e",
   "metadata": {},
   "source": [
    "### Feature Engineering:\n",
    "\n",
    "We can combine this `tfidf` representation of the tweet with features engineered from the raw tweet itself, such as tweet length, number of mentions ect."
   ]
  },
  {
   "cell_type": "code",
   "execution_count": null,
   "id": "9edc147e",
   "metadata": {},
   "outputs": [],
   "source": []
  }
 ],
 "metadata": {
  "kernelspec": {
   "display_name": "Python 3",
   "language": "python",
   "name": "python3"
  },
  "language_info": {
   "codemirror_mode": {
    "name": "ipython",
    "version": 3
   },
   "file_extension": ".py",
   "mimetype": "text/x-python",
   "name": "python",
   "nbconvert_exporter": "python",
   "pygments_lexer": "ipython3",
   "version": "3.8.8"
  }
 },
 "nbformat": 4,
 "nbformat_minor": 5
}
